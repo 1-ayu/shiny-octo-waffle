{
 "cells": [
  {
   "cell_type": "markdown",
   "metadata": {},
   "source": [
    "Abstraction refers to the act of representation essential features without including the background details or explanations."
   ]
  },
  {
   "cell_type": "code",
   "execution_count": 4,
   "metadata": {},
   "outputs": [],
   "source": [
    "import abc\n",
    "class pwskills:\n",
    "    @abc.abstractmethod\n",
    "    def students_details(self):\n",
    "        pass\n",
    "    \n",
    "    @abc.abstractmethod\n",
    "    def students_assignment(self):\n",
    "        pass\n",
    "    \n",
    "    @abc.abstractmethod\n",
    "    def student_marks(self):\n",
    "        pass"
   ]
  },
  {
   "cell_type": "code",
   "execution_count": null,
   "metadata": {},
   "outputs": [],
   "source": [
    "class sudent_details(pwskills):\n",
    "    def students_details(self):\n",
    "        return \"this is a method for taking student details\"\n",
    "    \n",
    "    def "
   ]
  }
 ],
 "metadata": {
  "kernelspec": {
   "display_name": "Python 3",
   "language": "python",
   "name": "python3"
  },
  "language_info": {
   "codemirror_mode": {
    "name": "ipython",
    "version": 3
   },
   "file_extension": ".py",
   "mimetype": "text/x-python",
   "name": "python",
   "nbconvert_exporter": "python",
   "pygments_lexer": "ipython3",
   "version": "3.11.4"
  },
  "orig_nbformat": 4
 },
 "nbformat": 4,
 "nbformat_minor": 2
}
